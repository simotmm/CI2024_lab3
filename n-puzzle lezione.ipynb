{
 "cells": [
  {
   "cell_type": "markdown",
   "metadata": {
    "vscode": {
     "languageId": "plaintext"
    }
   },
   "source": [
    "Copyright **`(c)`** 2024 Giovanni Squillero `<giovanni.squillero@polito.it>`  \n",
    "[`https://github.com/squillero/computational-intelligence`](https://github.com/squillero/computational-intelligence)  \n",
    "Free under certain conditions — see the [`license`](https://github.com/squillero/computational-intelligence/blob/master/LICENSE.md) for details.  "
   ]
  },
  {
   "cell_type": "markdown",
   "metadata": {},
   "source": [
    "# n-puzzle problem\n"
   ]
  },
  {
   "cell_type": "code",
   "execution_count": 56,
   "metadata": {},
   "outputs": [],
   "source": [
    "RANDOM_SEED = 1242\n",
    "SIZE = 3"
   ]
  },
  {
   "cell_type": "code",
   "execution_count": 57,
   "metadata": {},
   "outputs": [],
   "source": [
    "import logging\n",
    "from random import seed, choice\n",
    "from typing import Callable\n",
    "import numpy as np\n",
    "from queue import PriorityQueue\n",
    "logging.basicConfig(format=\"%(message)s\", level=logging.INFO)"
   ]
  },
  {
   "cell_type": "code",
   "execution_count": 58,
   "metadata": {},
   "outputs": [],
   "source": [
    "class State:\n",
    "    def __init__(self, data: np.ndarray):\n",
    "        self._data = data.copy()\n",
    "        self._data.flags.writeable = False\n",
    "\n",
    "    def __hash__(self):\n",
    "        return hash(bytes(self._data))\n",
    "\n",
    "    def __eq__(self, other):\n",
    "        return bytes(self._data) == bytes(other._data)\n",
    "\n",
    "    def __lt__(self, other):\n",
    "        return bytes(self._data) < bytes(other._data)\n",
    "\n",
    "    def __str__(self):\n",
    "        return str(self._data)\n",
    "\n",
    "    def __repr__(self):\n",
    "        return repr(self._data)\n",
    "\n",
    "    @property\n",
    "    def data(self):\n",
    "        return self._data\n",
    "\n",
    "    def copy_data(self):\n",
    "        return self._data.copy()"
   ]
  },
  {
   "cell_type": "markdown",
   "metadata": {},
   "source": [
    "## Search Algorithm (global search)"
   ]
  },
  {
   "cell_type": "code",
   "execution_count": 59,
   "metadata": {},
   "outputs": [],
   "source": [
    "def search(\n",
    "    initial_state: State,\n",
    "    goal_test: Callable,\n",
    "    parent_state: dict,\n",
    "    state_cost: dict,\n",
    "    priority_function: Callable,\n",
    "    unit_cost: Callable,\n",
    "):\n",
    "    frontier = PriorityQueue() \n",
    "    parent_state.clear()      \n",
    "    state_cost.clear()          \n",
    "\n",
    "    state = initial_state       # start from the initial state\n",
    "    parent_state[state] = None  # the initial state has no parent\n",
    "    state_cost[state] = 0       # cost to reach the initial state is zero\n",
    "\n",
    "    while state is not None and not goal_test(state):  # process states until goal is reached or no states remain\n",
    "        for a in possible_actions(state):              # iterate over all possible actions from the current state\n",
    "            new_state = result(state, a)               # determine the resulting state after applying the action\n",
    "            cost = unit_cost(a)                        # compute the cost of this action\n",
    "            if new_state not in state_cost and new_state not in frontier.queue:  \n",
    "                parent_state[new_state] = state  # if the state is new: set the current state as its parent, calculate the cumulative cost and add it to the frontier with its priority                                \n",
    "                state_cost[new_state] = state_cost[state] + cost \n",
    "                frontier.put(new_state, priority_function(new_state))  \n",
    "                logging.debug(f\"Added new node to frontier (cost={state_cost[new_state]})\")\n",
    "            elif new_state in frontier.queue and state_cost[new_state] > state_cost[state] + cost:  \n",
    "                old_cost = state_cost[new_state] # if the state is already in the frontier with a higher cost: store the old cost for logging, update its parent to the current state and update its cumulative cost\n",
    "                parent_state[new_state] = state \n",
    "                state_cost[new_state] = state_cost[state] + cost  \n",
    "                logging.debug(f\"Updated node cost in frontier: {old_cost} -> {state_cost[new_state]}\")\n",
    "        if frontier:  # if there are more states to process in the frontier get the state with the highest priority\n",
    "            state = frontier.get()  \n",
    "        else:\n",
    "            state = None\n",
    "\n",
    "    path = list()  # initialize the solution path\n",
    "    s = state\n",
    "    while s:                        # reconstruct the path from the goal state to the initial state\n",
    "        path.append(s.copy_data())  # copy state data to avoid modifying the original state\n",
    "        s = parent_state[s]         # move to the parent state\n",
    "\n",
    "    logging.info(f\"Found a solution in {len(path):,} steps; visited {len(state_cost):,} states\") \n",
    "    return list(reversed(path))  # return the path in the correct order, from initial to goal state\n"
   ]
  },
  {
   "cell_type": "markdown",
   "metadata": {},
   "source": [
    "## Graph search for the the n-puzzle"
   ]
  },
  {
   "cell_type": "code",
   "execution_count": 60,
   "metadata": {},
   "outputs": [
    {
     "name": "stderr",
     "output_type": "stream",
     "text": [
      "Goal:\n",
      "[[1 2 3]\n",
      " [4 5 6]\n",
      " [7 8 0]]\n"
     ]
    },
    {
     "name": "stdout",
     "output_type": "stream",
     "text": [
      "\n",
      "Initial State:\n",
      "[[1 8 4]\n",
      " [6 5 2]\n",
      " [7 3 0]]\n"
     ]
    }
   ],
   "source": [
    "seed(RANDOM_SEED)\n",
    "\n",
    "GOAL = State(np.array(list(range(1, SIZE**2)) + [0]).reshape((SIZE, SIZE)))\n",
    "logging.info(f\"Goal:\\n{GOAL}\")\n",
    "\n",
    "def goal_test(state):\n",
    "    return state == GOAL\n",
    "\n",
    "# (R, C) -> UP / RIGHT / DOWN / LEFT\n",
    "MOVES = [np.array(_) for _ in [(-1, 0), (0, +1), (+1, 0), (0, -1)]]\n",
    "\n",
    "def find_empty_space(board: np.ndarray):\n",
    "    t = np.where(board == 0)\n",
    "    return np.array([t[0][0], t[1][0]])\n",
    "\n",
    "def is_valid(board: np.ndarray, action):\n",
    "    return all(0 <= (find_empty_space(board) + action)[i] < board.shape[i] for i in [0, 1])\n",
    "\n",
    "def possible_actions(state: State):\n",
    "    return (m for m in MOVES if is_valid(state._data, m))\n",
    "\n",
    "def result(state, action):\n",
    "    board = state.copy_data()\n",
    "    space = find_empty_space(board)\n",
    "    pos = space + action\n",
    "    board[space[0], space[1]] = board[pos[0], pos[1]]\n",
    "    board[pos[0], pos[1]] = 0\n",
    "    return State(board)\n",
    "\n",
    "INITIAL_STATE = GOAL\n",
    "for r in range(5_000):\n",
    "    INITIAL_STATE = result(INITIAL_STATE, choice(list(possible_actions(INITIAL_STATE))))\n",
    "\n",
    "print(\"\\nInitial State:\")\n",
    "print(INITIAL_STATE)"
   ]
  },
  {
   "cell_type": "markdown",
   "metadata": {},
   "source": [
    "## A*"
   ]
  },
  {
   "cell_type": "code",
   "execution_count": null,
   "metadata": {},
   "outputs": [
    {
     "name": "stderr",
     "output_type": "stream",
     "text": [
      "Found a solution in 143 steps; visited 6,654 states\n"
     ]
    }
   ],
   "source": [
    "parent_state = dict()  # dictionary to store the parent of each state\n",
    "state_cost = dict()    # dictionary to store the cumulative cost for each state\n",
    "\n",
    "def h(state): # heuristic function: number of misplaced tiles (ignoring empty tiles)\n",
    "    return np.sum((state._data != GOAL._data) & (state._data > 0))\n",
    "\n",
    "final = search(\n",
    "    INITIAL_STATE,                                     # starting state of the search\n",
    "    goal_test=goal_test,                               # function to test if the goal state is reached\n",
    "    parent_state=parent_state,                         # pass the parent_state dictionary for tracking\n",
    "    state_cost=state_cost,                             # pass the state_cost dictionary for tracking\n",
    "    priority_function=lambda s: state_cost[s] + h(s),  # combine the cost-so-far and the heuristic value\n",
    "    unit_cost=lambda a: 1,                             # define a uniform unit cost for all actions\n",
    ")"
   ]
  },
  {
   "cell_type": "markdown",
   "metadata": {},
   "source": [
    "## Breadth-First"
   ]
  },
  {
   "cell_type": "code",
   "execution_count": null,
   "metadata": {},
   "outputs": [
    {
     "name": "stderr",
     "output_type": "stream",
     "text": [
      "Found a solution in 143 steps; visited 6,654 states\n"
     ]
    }
   ],
   "source": [
    "parent_state = dict()  # dictionary to store the parent of each state\n",
    "state_cost = dict()    # dictionary to store the cumulative cost for each state\n",
    "\n",
    "final = search(\n",
    "    INITIAL_STATE,                                # starting state of the search\n",
    "    goal_test=goal_test,                          # function to test if the goal state is reached\n",
    "    parent_state=parent_state,                    # pass the parent_state dictionary for tracking\n",
    "    state_cost=state_cost,                        # pass the state_cost dictionary for tracking\n",
    "    priority_function=lambda s: len(state_cost),  # use a constant priority for breadth-first (queue behavior)\n",
    "    unit_cost=lambda a: 1,                        # define a uniform unit cost for all actions\n",
    ")"
   ]
  }
 ],
 "metadata": {
  "kernelspec": {
   "display_name": "venv",
   "language": "python",
   "name": "python3"
  },
  "language_info": {
   "codemirror_mode": {
    "name": "ipython",
    "version": 3
   },
   "file_extension": ".py",
   "mimetype": "text/x-python",
   "name": "python",
   "nbconvert_exporter": "python",
   "pygments_lexer": "ipython3",
   "version": "3.12.7"
  }
 },
 "nbformat": 4,
 "nbformat_minor": 2
}
